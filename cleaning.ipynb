{
 "cells": [
  {
   "cell_type": "code",
   "execution_count": null,
   "id": "8b4870cf",
   "metadata": {},
   "outputs": [],
   "source": [
    "import pandas as pd\n",
    "import numpy as np"
   ]
  },
  {
   "cell_type": "code",
   "execution_count": null,
   "id": "f8451fb5",
   "metadata": {},
   "outputs": [],
   "source": [
    "datos = pd.read_csv(\"Dataset.csv\",sep=\";\")"
   ]
  },
  {
   "cell_type": "code",
   "execution_count": null,
   "id": "8a2ee8dc",
   "metadata": {},
   "outputs": [
    {
     "data": {
      "text/html": [
       "<div>\n",
       "<style scoped>\n",
       "    .dataframe tbody tr th:only-of-type {\n",
       "        vertical-align: middle;\n",
       "    }\n",
       "\n",
       "    .dataframe tbody tr th {\n",
       "        vertical-align: top;\n",
       "    }\n",
       "\n",
       "    .dataframe thead th {\n",
       "        text-align: right;\n",
       "    }\n",
       "</style>\n",
       "<table border=\"1\" class=\"dataframe\">\n",
       "  <thead>\n",
       "    <tr style=\"text-align: right;\">\n",
       "      <th></th>\n",
       "      <th>age</th>\n",
       "      <th>job</th>\n",
       "      <th>marital</th>\n",
       "      <th>education</th>\n",
       "      <th>default</th>\n",
       "      <th>balance</th>\n",
       "      <th>housing</th>\n",
       "      <th>loan</th>\n",
       "      <th>contact</th>\n",
       "      <th>day</th>\n",
       "      <th>month</th>\n",
       "      <th>duration</th>\n",
       "      <th>campaign</th>\n",
       "      <th>pdays</th>\n",
       "      <th>previous</th>\n",
       "      <th>poutcome</th>\n",
       "      <th>y</th>\n",
       "    </tr>\n",
       "  </thead>\n",
       "  <tbody>\n",
       "    <tr>\n",
       "      <th>0</th>\n",
       "      <td>58</td>\n",
       "      <td>management</td>\n",
       "      <td>married</td>\n",
       "      <td>tertiary</td>\n",
       "      <td>no</td>\n",
       "      <td>2143</td>\n",
       "      <td>yes</td>\n",
       "      <td>no</td>\n",
       "      <td>unknown</td>\n",
       "      <td>5</td>\n",
       "      <td>may</td>\n",
       "      <td>261</td>\n",
       "      <td>1</td>\n",
       "      <td>-1</td>\n",
       "      <td>0</td>\n",
       "      <td>unknown</td>\n",
       "      <td>no</td>\n",
       "    </tr>\n",
       "    <tr>\n",
       "      <th>1</th>\n",
       "      <td>44</td>\n",
       "      <td>technician</td>\n",
       "      <td>single</td>\n",
       "      <td>secondary</td>\n",
       "      <td>no</td>\n",
       "      <td>29</td>\n",
       "      <td>yes</td>\n",
       "      <td>no</td>\n",
       "      <td>unknown</td>\n",
       "      <td>5</td>\n",
       "      <td>may</td>\n",
       "      <td>151</td>\n",
       "      <td>1</td>\n",
       "      <td>-1</td>\n",
       "      <td>0</td>\n",
       "      <td>unknown</td>\n",
       "      <td>no</td>\n",
       "    </tr>\n",
       "    <tr>\n",
       "      <th>2</th>\n",
       "      <td>33</td>\n",
       "      <td>entrepreneur</td>\n",
       "      <td>married</td>\n",
       "      <td>secondary</td>\n",
       "      <td>no</td>\n",
       "      <td>2</td>\n",
       "      <td>yes</td>\n",
       "      <td>yes</td>\n",
       "      <td>unknown</td>\n",
       "      <td>5</td>\n",
       "      <td>may</td>\n",
       "      <td>76</td>\n",
       "      <td>1</td>\n",
       "      <td>-1</td>\n",
       "      <td>0</td>\n",
       "      <td>unknown</td>\n",
       "      <td>no</td>\n",
       "    </tr>\n",
       "    <tr>\n",
       "      <th>3</th>\n",
       "      <td>47</td>\n",
       "      <td>blue-collar</td>\n",
       "      <td>married</td>\n",
       "      <td>unknown</td>\n",
       "      <td>no</td>\n",
       "      <td>1506</td>\n",
       "      <td>yes</td>\n",
       "      <td>no</td>\n",
       "      <td>unknown</td>\n",
       "      <td>5</td>\n",
       "      <td>may</td>\n",
       "      <td>92</td>\n",
       "      <td>1</td>\n",
       "      <td>-1</td>\n",
       "      <td>0</td>\n",
       "      <td>unknown</td>\n",
       "      <td>no</td>\n",
       "    </tr>\n",
       "    <tr>\n",
       "      <th>4</th>\n",
       "      <td>33</td>\n",
       "      <td>unknown</td>\n",
       "      <td>single</td>\n",
       "      <td>unknown</td>\n",
       "      <td>no</td>\n",
       "      <td>1</td>\n",
       "      <td>no</td>\n",
       "      <td>no</td>\n",
       "      <td>unknown</td>\n",
       "      <td>5</td>\n",
       "      <td>may</td>\n",
       "      <td>198</td>\n",
       "      <td>1</td>\n",
       "      <td>-1</td>\n",
       "      <td>0</td>\n",
       "      <td>unknown</td>\n",
       "      <td>no</td>\n",
       "    </tr>\n",
       "  </tbody>\n",
       "</table>\n",
       "</div>"
      ],
      "text/plain": [
       "   age           job  marital  education default  balance housing loan  \\\n",
       "0   58    management  married   tertiary      no     2143     yes   no   \n",
       "1   44    technician   single  secondary      no       29     yes   no   \n",
       "2   33  entrepreneur  married  secondary      no        2     yes  yes   \n",
       "3   47   blue-collar  married    unknown      no     1506     yes   no   \n",
       "4   33       unknown   single    unknown      no        1      no   no   \n",
       "\n",
       "   contact  day month  duration  campaign  pdays  previous poutcome   y  \n",
       "0  unknown    5   may       261         1     -1         0  unknown  no  \n",
       "1  unknown    5   may       151         1     -1         0  unknown  no  \n",
       "2  unknown    5   may        76         1     -1         0  unknown  no  \n",
       "3  unknown    5   may        92         1     -1         0  unknown  no  \n",
       "4  unknown    5   may       198         1     -1         0  unknown  no  "
      ]
     },
     "execution_count": 3,
     "metadata": {},
     "output_type": "execute_result"
    }
   ],
   "source": [
    "datos.head()"
   ]
  },
  {
   "cell_type": "markdown",
   "id": "292f6570",
   "metadata": {},
   "source": [
    "# Analisis General"
   ]
  },
  {
   "cell_type": "markdown",
   "id": "09b0b6b8",
   "metadata": {},
   "source": [
    "## Exploración Inicial"
   ]
  },
  {
   "cell_type": "code",
   "execution_count": null,
   "id": "d9b59953",
   "metadata": {},
   "outputs": [
    {
     "name": "stdout",
     "output_type": "stream",
     "text": [
      "(20739, 17)\n"
     ]
    }
   ],
   "source": [
    "print(datos.shape)"
   ]
  },
  {
   "cell_type": "code",
   "execution_count": null,
   "id": "00aec247",
   "metadata": {},
   "outputs": [
    {
     "name": "stdout",
     "output_type": "stream",
     "text": [
      "   age           job  marital  education default  balance housing loan  \\\n",
      "0   58    management  married   tertiary      no     2143     yes   no   \n",
      "1   44    technician   single  secondary      no       29     yes   no   \n",
      "2   33  entrepreneur  married  secondary      no        2     yes  yes   \n",
      "3   47   blue-collar  married    unknown      no     1506     yes   no   \n",
      "4   33       unknown   single    unknown      no        1      no   no   \n",
      "\n",
      "   contact  day month  duration  campaign  pdays  previous poutcome   y  \n",
      "0  unknown    5   may       261         1     -1         0  unknown  no  \n",
      "1  unknown    5   may       151         1     -1         0  unknown  no  \n",
      "2  unknown    5   may        76         1     -1         0  unknown  no  \n",
      "3  unknown    5   may        92         1     -1         0  unknown  no  \n",
      "4  unknown    5   may       198         1     -1         0  unknown  no  \n"
     ]
    }
   ],
   "source": [
    "print(datos.head())"
   ]
  },
  {
   "cell_type": "code",
   "execution_count": null,
   "id": "3111a740",
   "metadata": {},
   "outputs": [
    {
     "name": "stdout",
     "output_type": "stream",
     "text": [
      "<class 'pandas.core.frame.DataFrame'>\n",
      "RangeIndex: 20739 entries, 0 to 20738\n",
      "Data columns (total 17 columns):\n",
      " #   Column     Non-Null Count  Dtype \n",
      "---  ------     --------------  ----- \n",
      " 0   age        20739 non-null  int64 \n",
      " 1   job        20739 non-null  object\n",
      " 2   marital    20739 non-null  object\n",
      " 3   education  20739 non-null  object\n",
      " 4   default    20739 non-null  object\n",
      " 5   balance    20739 non-null  int64 \n",
      " 6   housing    20739 non-null  object\n",
      " 7   loan       20739 non-null  object\n",
      " 8   contact    20739 non-null  object\n",
      " 9   day        20739 non-null  int64 \n",
      " 10  month      20739 non-null  object\n",
      " 11  duration   20739 non-null  int64 \n",
      " 12  campaign   20739 non-null  int64 \n",
      " 13  pdays      20739 non-null  int64 \n",
      " 14  previous   20739 non-null  int64 \n",
      " 15  poutcome   20739 non-null  object\n",
      " 16  y          20739 non-null  object\n",
      "dtypes: int64(7), object(10)\n",
      "memory usage: 2.7+ MB\n",
      "None\n"
     ]
    }
   ],
   "source": [
    "print(datos.info())"
   ]
  },
  {
   "cell_type": "markdown",
   "id": "40a79445",
   "metadata": {},
   "source": [
    "Parece no haber nulos, ya que todas las variables tienen 20739 valores, ahora estadisticas descriptivas de las variables númericas"
   ]
  },
  {
   "cell_type": "code",
   "execution_count": null,
   "id": "400888fe",
   "metadata": {},
   "outputs": [
    {
     "name": "stdout",
     "output_type": "stream",
     "text": [
      "                age        balance           day      duration      campaign  \\\n",
      "count  20739.000000   20739.000000  20739.000000  20739.000000  20739.000000   \n",
      "mean      41.095762    1148.639230     15.976469    259.027243      3.089541   \n",
      "std       11.251527    4501.290387      8.588330    261.613962      3.660176   \n",
      "min       20.000000   -8019.000000      1.000000  -1389.000000      1.000000   \n",
      "25%       33.000000      30.000000      8.000000    103.000000      1.000000   \n",
      "50%       40.000000     350.000000     15.000000    178.000000      2.000000   \n",
      "75%       49.000000    1191.000000     23.000000    317.000000      3.000000   \n",
      "max      530.000000  527532.000000     31.000000   3881.000000     63.000000   \n",
      "\n",
      "              pdays      previous  \n",
      "count  20739.000000  20739.000000  \n",
      "mean      -0.990935      0.000241  \n",
      "std        1.305461      0.034720  \n",
      "min       -1.000000      0.000000  \n",
      "25%       -1.000000      0.000000  \n",
      "50%       -1.000000      0.000000  \n",
      "75%       -1.000000      0.000000  \n",
      "max      187.000000      5.000000  \n"
     ]
    }
   ],
   "source": [
    "print(datos.describe())"
   ]
  },
  {
   "cell_type": "markdown",
   "id": "2ee03116",
   "metadata": {},
   "source": [
    "Se puede ver algunas inconsistencias como el \"age\" maximo 530, numeros negativos en \"duration\". Se analizara detalladamente después."
   ]
  },
  {
   "cell_type": "code",
   "execution_count": null,
   "id": "de720ab0",
   "metadata": {},
   "outputs": [
    {
     "name": "stdout",
     "output_type": "stream",
     "text": [
      "age          0\n",
      "job          0\n",
      "marital      0\n",
      "education    0\n",
      "default      0\n",
      "balance      0\n",
      "housing      0\n",
      "loan         0\n",
      "contact      0\n",
      "day          0\n",
      "month        0\n",
      "duration     0\n",
      "campaign     0\n",
      "pdays        0\n",
      "previous     0\n",
      "poutcome     0\n",
      "y            0\n",
      "dtype: int64\n"
     ]
    }
   ],
   "source": [
    "# Revisa valores nulos\n",
    "print(datos.isnull().sum())"
   ]
  },
  {
   "cell_type": "markdown",
   "id": "932326f9",
   "metadata": {},
   "source": [
    "## Duplicados"
   ]
  },
  {
   "cell_type": "code",
   "execution_count": null,
   "id": "e422d25d",
   "metadata": {},
   "outputs": [
    {
     "data": {
      "text/html": [
       "<div>\n",
       "<style scoped>\n",
       "    .dataframe tbody tr th:only-of-type {\n",
       "        vertical-align: middle;\n",
       "    }\n",
       "\n",
       "    .dataframe tbody tr th {\n",
       "        vertical-align: top;\n",
       "    }\n",
       "\n",
       "    .dataframe thead th {\n",
       "        text-align: right;\n",
       "    }\n",
       "</style>\n",
       "<table border=\"1\" class=\"dataframe\">\n",
       "  <thead>\n",
       "    <tr style=\"text-align: right;\">\n",
       "      <th></th>\n",
       "      <th>age</th>\n",
       "      <th>job</th>\n",
       "      <th>marital</th>\n",
       "      <th>education</th>\n",
       "      <th>default</th>\n",
       "      <th>balance</th>\n",
       "      <th>housing</th>\n",
       "      <th>loan</th>\n",
       "      <th>contact</th>\n",
       "      <th>day</th>\n",
       "      <th>month</th>\n",
       "      <th>duration</th>\n",
       "      <th>campaign</th>\n",
       "      <th>pdays</th>\n",
       "      <th>previous</th>\n",
       "      <th>poutcome</th>\n",
       "      <th>y</th>\n",
       "    </tr>\n",
       "  </thead>\n",
       "  <tbody>\n",
       "    <tr>\n",
       "      <th>523</th>\n",
       "      <td>43</td>\n",
       "      <td>blue-collar</td>\n",
       "      <td>married</td>\n",
       "      <td>secondary</td>\n",
       "      <td>yes</td>\n",
       "      <td>-7</td>\n",
       "      <td>no</td>\n",
       "      <td>no</td>\n",
       "      <td>unknown</td>\n",
       "      <td>8</td>\n",
       "      <td>may</td>\n",
       "      <td>70</td>\n",
       "      <td>1</td>\n",
       "      <td>-1</td>\n",
       "      <td>0</td>\n",
       "      <td>unknown</td>\n",
       "      <td>no</td>\n",
       "    </tr>\n",
       "    <tr>\n",
       "      <th>1201</th>\n",
       "      <td>43</td>\n",
       "      <td>blue-collar</td>\n",
       "      <td>married</td>\n",
       "      <td>secondary</td>\n",
       "      <td>yes</td>\n",
       "      <td>-7</td>\n",
       "      <td>no</td>\n",
       "      <td>no</td>\n",
       "      <td>unknown</td>\n",
       "      <td>8</td>\n",
       "      <td>may</td>\n",
       "      <td>70</td>\n",
       "      <td>1</td>\n",
       "      <td>-1</td>\n",
       "      <td>0</td>\n",
       "      <td>unknown</td>\n",
       "      <td>no</td>\n",
       "    </tr>\n",
       "  </tbody>\n",
       "</table>\n",
       "</div>"
      ],
      "text/plain": [
       "      age          job  marital  education default  balance housing loan  \\\n",
       "523    43  blue-collar  married  secondary     yes       -7      no   no   \n",
       "1201   43  blue-collar  married  secondary     yes       -7      no   no   \n",
       "\n",
       "      contact  day month  duration  campaign  pdays  previous poutcome   y  \n",
       "523   unknown    8   may        70         1     -1         0  unknown  no  \n",
       "1201  unknown    8   may        70         1     -1         0  unknown  no  "
      ]
     },
     "metadata": {},
     "output_type": "display_data"
    }
   ],
   "source": [
    "# Filas duplicadas\n",
    "datos[datos.duplicated(keep=False)]"
   ]
  },
  {
   "cell_type": "code",
   "execution_count": null,
   "id": "f38fa5a3",
   "metadata": {},
   "outputs": [],
   "source": [
    "# Eliminando filas duplicadas \n",
    "datos.drop_duplicates(inplace=True)"
   ]
  },
  {
   "cell_type": "markdown",
   "id": "8abc7545",
   "metadata": {},
   "source": [
    "# Analisis por variables"
   ]
  },
  {
   "cell_type": "markdown",
   "id": "50cbf299",
   "metadata": {},
   "source": [
    "## Age"
   ]
  },
  {
   "cell_type": "code",
   "execution_count": null,
   "id": "da8e698b",
   "metadata": {},
   "outputs": [
    {
     "data": {
      "text/plain": [
       "count    20738.000000\n",
       "mean        41.095670\n",
       "std         11.251791\n",
       "min         20.000000\n",
       "25%         33.000000\n",
       "50%         40.000000\n",
       "75%         49.000000\n",
       "max        530.000000\n",
       "Name: age, dtype: float64"
      ]
     },
     "metadata": {},
     "output_type": "display_data"
    }
   ],
   "source": [
    "datos[\"age\"].describe()"
   ]
  },
  {
   "cell_type": "code",
   "execution_count": null,
   "id": "bf6f7c30",
   "metadata": {},
   "outputs": [
    {
     "data": {
      "text/plain": [
       "count    20738.000000\n",
       "mean        41.095670\n",
       "std         11.251791\n",
       "min         20.000000\n",
       "25%         33.000000\n",
       "50%         40.000000\n",
       "75%         49.000000\n",
       "max        530.000000\n",
       "Name: age, dtype: float64"
      ]
     },
     "metadata": {},
     "output_type": "display_data"
    }
   ],
   "source": [
    "datos[\"age\"].describe()"
   ]
  },
  {
   "cell_type": "code",
   "execution_count": null,
   "id": "b84e974f",
   "metadata": {},
   "outputs": [
    {
     "data": {
      "text/html": [
       "<div>\n",
       "<style scoped>\n",
       "    .dataframe tbody tr th:only-of-type {\n",
       "        vertical-align: middle;\n",
       "    }\n",
       "\n",
       "    .dataframe tbody tr th {\n",
       "        vertical-align: top;\n",
       "    }\n",
       "\n",
       "    .dataframe thead th {\n",
       "        text-align: right;\n",
       "    }\n",
       "</style>\n",
       "<table border=\"1\" class=\"dataframe\">\n",
       "  <thead>\n",
       "    <tr style=\"text-align: right;\">\n",
       "      <th></th>\n",
       "      <th>age</th>\n",
       "      <th>job</th>\n",
       "      <th>marital</th>\n",
       "      <th>education</th>\n",
       "      <th>default</th>\n",
       "      <th>balance</th>\n",
       "      <th>housing</th>\n",
       "      <th>loan</th>\n",
       "      <th>contact</th>\n",
       "      <th>day</th>\n",
       "      <th>month</th>\n",
       "      <th>duration</th>\n",
       "      <th>campaign</th>\n",
       "      <th>pdays</th>\n",
       "      <th>previous</th>\n",
       "      <th>poutcome</th>\n",
       "      <th>y</th>\n",
       "    </tr>\n",
       "  </thead>\n",
       "  <tbody>\n",
       "    <tr>\n",
       "      <th>229</th>\n",
       "      <td>530</td>\n",
       "      <td>services</td>\n",
       "      <td>divorced</td>\n",
       "      <td>secondary</td>\n",
       "      <td>no</td>\n",
       "      <td>1467</td>\n",
       "      <td>yes</td>\n",
       "      <td>no</td>\n",
       "      <td>unknown</td>\n",
       "      <td>5</td>\n",
       "      <td>may</td>\n",
       "      <td>124</td>\n",
       "      <td>1</td>\n",
       "      <td>-1</td>\n",
       "      <td>0</td>\n",
       "      <td>unknown</td>\n",
       "      <td>no</td>\n",
       "    </tr>\n",
       "    <tr>\n",
       "      <th>1076</th>\n",
       "      <td>490</td>\n",
       "      <td>services</td>\n",
       "      <td>single</td>\n",
       "      <td>primary</td>\n",
       "      <td>no</td>\n",
       "      <td>114</td>\n",
       "      <td>yes</td>\n",
       "      <td>no</td>\n",
       "      <td>unknown</td>\n",
       "      <td>7</td>\n",
       "      <td>may</td>\n",
       "      <td>99</td>\n",
       "      <td>2</td>\n",
       "      <td>-1</td>\n",
       "      <td>0</td>\n",
       "      <td>unknown</td>\n",
       "      <td>no</td>\n",
       "    </tr>\n",
       "    <tr>\n",
       "      <th>2229</th>\n",
       "      <td>123</td>\n",
       "      <td>student</td>\n",
       "      <td>single</td>\n",
       "      <td>tertiary</td>\n",
       "      <td>no</td>\n",
       "      <td>250</td>\n",
       "      <td>yes</td>\n",
       "      <td>no</td>\n",
       "      <td>unknown</td>\n",
       "      <td>12</td>\n",
       "      <td>may</td>\n",
       "      <td>166</td>\n",
       "      <td>2</td>\n",
       "      <td>-1</td>\n",
       "      <td>0</td>\n",
       "      <td>unknown</td>\n",
       "      <td>no</td>\n",
       "    </tr>\n",
       "    <tr>\n",
       "      <th>3018</th>\n",
       "      <td>332</td>\n",
       "      <td>admin.</td>\n",
       "      <td>single</td>\n",
       "      <td>secondary</td>\n",
       "      <td>no</td>\n",
       "      <td>91</td>\n",
       "      <td>yes</td>\n",
       "      <td>no</td>\n",
       "      <td>unknown</td>\n",
       "      <td>14</td>\n",
       "      <td>may</td>\n",
       "      <td>302</td>\n",
       "      <td>2</td>\n",
       "      <td>-1</td>\n",
       "      <td>0</td>\n",
       "      <td>unknown</td>\n",
       "      <td>no</td>\n",
       "    </tr>\n",
       "    <tr>\n",
       "      <th>5799</th>\n",
       "      <td>311</td>\n",
       "      <td>self-employed</td>\n",
       "      <td>single</td>\n",
       "      <td>secondary</td>\n",
       "      <td>no</td>\n",
       "      <td>360</td>\n",
       "      <td>yes</td>\n",
       "      <td>no</td>\n",
       "      <td>unknown</td>\n",
       "      <td>26</td>\n",
       "      <td>may</td>\n",
       "      <td>592</td>\n",
       "      <td>4</td>\n",
       "      <td>-1</td>\n",
       "      <td>0</td>\n",
       "      <td>unknown</td>\n",
       "      <td>no</td>\n",
       "    </tr>\n",
       "    <tr>\n",
       "      <th>6053</th>\n",
       "      <td>399</td>\n",
       "      <td>blue-collar</td>\n",
       "      <td>married</td>\n",
       "      <td>primary</td>\n",
       "      <td>no</td>\n",
       "      <td>2805</td>\n",
       "      <td>yes</td>\n",
       "      <td>no</td>\n",
       "      <td>unknown</td>\n",
       "      <td>26</td>\n",
       "      <td>may</td>\n",
       "      <td>102</td>\n",
       "      <td>23</td>\n",
       "      <td>-1</td>\n",
       "      <td>0</td>\n",
       "      <td>unknown</td>\n",
       "      <td>no</td>\n",
       "    </tr>\n",
       "  </tbody>\n",
       "</table>\n",
       "</div>"
      ],
      "text/plain": [
       "      age            job   marital  education default  balance housing loan  \\\n",
       "229   530       services  divorced  secondary      no     1467     yes   no   \n",
       "1076  490       services    single    primary      no      114     yes   no   \n",
       "2229  123        student    single   tertiary      no      250     yes   no   \n",
       "3018  332         admin.    single  secondary      no       91     yes   no   \n",
       "5799  311  self-employed    single  secondary      no      360     yes   no   \n",
       "6053  399    blue-collar   married    primary      no     2805     yes   no   \n",
       "\n",
       "      contact  day month  duration  campaign  pdays  previous poutcome   y  \n",
       "229   unknown    5   may       124         1     -1         0  unknown  no  \n",
       "1076  unknown    7   may        99         2     -1         0  unknown  no  \n",
       "2229  unknown   12   may       166         2     -1         0  unknown  no  \n",
       "3018  unknown   14   may       302         2     -1         0  unknown  no  \n",
       "5799  unknown   26   may       592         4     -1         0  unknown  no  \n",
       "6053  unknown   26   may       102        23     -1         0  unknown  no  "
      ]
     },
     "metadata": {},
     "output_type": "display_data"
    }
   ],
   "source": [
    "datos[datos[\"age\"]>70]"
   ]
  },
  {
   "cell_type": "markdown",
   "id": "d45b71ea",
   "metadata": {},
   "source": [
    "Se puede ver que hay edades de 123 y mayores que no tienen sentido, se reemplazara por la mediana de las edades restantes."
   ]
  },
  {
   "cell_type": "code",
   "execution_count": null,
   "id": "64191081",
   "metadata": {},
   "outputs": [
    {
     "data": {
      "text/plain": [
       "np.float64(40.0)"
      ]
     },
     "metadata": {},
     "output_type": "display_data"
    }
   ],
   "source": [
    "# Mediana de los menores o igual a 70\n",
    "mediana_edad = datos.loc[datos['age'] <= 70, 'age'].median()\n",
    "mediana_edad"
   ]
  },
  {
   "cell_type": "code",
   "execution_count": null,
   "id": "4a582849",
   "metadata": {},
   "outputs": [],
   "source": [
    "datos.loc[datos['age'] > 70, 'age'] = mediana_edad"
   ]
  },
  {
   "cell_type": "markdown",
   "id": "91cff706",
   "metadata": {},
   "source": [
    "Ahora si la edad estan en un intervalo logico"
   ]
  },
  {
   "cell_type": "code",
   "execution_count": null,
   "id": "2f6a335a",
   "metadata": {},
   "outputs": [
    {
     "data": {
      "text/plain": [
       "count    20738.000000\n",
       "mean        41.001881\n",
       "std          9.552779\n",
       "min         20.000000\n",
       "25%         33.000000\n",
       "50%         40.000000\n",
       "75%         49.000000\n",
       "max         61.000000\n",
       "Name: age, dtype: float64"
      ]
     },
     "metadata": {},
     "output_type": "display_data"
    }
   ],
   "source": [
    "datos[\"age\"].describe()"
   ]
  },
  {
   "cell_type": "markdown",
   "id": "5f4458ca",
   "metadata": {},
   "source": [
    "## Job"
   ]
  },
  {
   "cell_type": "code",
   "execution_count": null,
   "id": "b8de7199",
   "metadata": {},
   "outputs": [
    {
     "data": {
      "text/plain": [
       "job\n",
       "blue-collar       5413\n",
       "management        3739\n",
       "technician        3319\n",
       "admin.            2349\n",
       "services          2183\n",
       "retired            841\n",
       "entrepreneur       752\n",
       "housemaid          685\n",
       "self-employed      664\n",
       "unemployed         474\n",
       "unknown            159\n",
       "student            151\n",
       "administrative       3\n",
       "Management           2\n",
       "MANAGEMENT           1\n",
       "Self-employed        1\n",
       "Services             1\n",
       "Retired              1\n",
       "Name: count, dtype: int64"
      ]
     },
     "metadata": {},
     "output_type": "display_data"
    }
   ],
   "source": [
    "datos[\"job\"].value_counts()"
   ]
  },
  {
   "cell_type": "markdown",
   "id": "1ad21ee2",
   "metadata": {},
   "source": [
    "Se borrara espacios y convirtiendo todo a minuscula"
   ]
  },
  {
   "cell_type": "code",
   "execution_count": null,
   "id": "3bb34c06",
   "metadata": {},
   "outputs": [
    {
     "data": {
      "text/plain": [
       "job\n",
       "blue-collar       5413\n",
       "management        3742\n",
       "technician        3319\n",
       "admin.            2349\n",
       "services          2184\n",
       "retired            842\n",
       "entrepreneur       752\n",
       "housemaid          685\n",
       "self-employed      665\n",
       "unemployed         474\n",
       "unknown            159\n",
       "student            151\n",
       "administrative       3\n",
       "Name: count, dtype: int64"
      ]
     },
     "metadata": {},
     "output_type": "display_data"
    }
   ],
   "source": [
    "datos[\"job\"] = datos[\"job\"].astype(\"object\")\n",
    "datos[\"job\"] = datos[\"job\"].str.strip()\n",
    "datos[\"job\"] = datos[\"job\"].str.lower()\n",
    "datos[\"job\"].value_counts()"
   ]
  },
  {
   "cell_type": "code",
   "execution_count": null,
   "id": "99dc6c69",
   "metadata": {},
   "outputs": [
    {
     "data": {
      "text/html": [
       "<div>\n",
       "<style scoped>\n",
       "    .dataframe tbody tr th:only-of-type {\n",
       "        vertical-align: middle;\n",
       "    }\n",
       "\n",
       "    .dataframe tbody tr th {\n",
       "        vertical-align: top;\n",
       "    }\n",
       "\n",
       "    .dataframe thead th {\n",
       "        text-align: right;\n",
       "    }\n",
       "</style>\n",
       "<table border=\"1\" class=\"dataframe\">\n",
       "  <thead>\n",
       "    <tr style=\"text-align: right;\">\n",
       "      <th></th>\n",
       "      <th>age</th>\n",
       "      <th>job</th>\n",
       "      <th>marital</th>\n",
       "      <th>education</th>\n",
       "      <th>default</th>\n",
       "      <th>balance</th>\n",
       "      <th>housing</th>\n",
       "      <th>loan</th>\n",
       "      <th>contact</th>\n",
       "      <th>day</th>\n",
       "      <th>month</th>\n",
       "      <th>duration</th>\n",
       "      <th>campaign</th>\n",
       "      <th>pdays</th>\n",
       "      <th>previous</th>\n",
       "      <th>poutcome</th>\n",
       "      <th>y</th>\n",
       "    </tr>\n",
       "  </thead>\n",
       "  <tbody>\n",
       "    <tr>\n",
       "      <th>174</th>\n",
       "      <td>60</td>\n",
       "      <td>administrative</td>\n",
       "      <td>divorced</td>\n",
       "      <td>secondary</td>\n",
       "      <td>no</td>\n",
       "      <td>92</td>\n",
       "      <td>yes</td>\n",
       "      <td>no</td>\n",
       "      <td>unknown</td>\n",
       "      <td>5</td>\n",
       "      <td>may</td>\n",
       "      <td>130</td>\n",
       "      <td>1</td>\n",
       "      <td>-1</td>\n",
       "      <td>0</td>\n",
       "      <td>unknown</td>\n",
       "      <td>no</td>\n",
       "    </tr>\n",
       "    <tr>\n",
       "      <th>175</th>\n",
       "      <td>53</td>\n",
       "      <td>administrative</td>\n",
       "      <td>divorced</td>\n",
       "      <td>secondary</td>\n",
       "      <td>no</td>\n",
       "      <td>1151</td>\n",
       "      <td>yes</td>\n",
       "      <td>no</td>\n",
       "      <td>unknown</td>\n",
       "      <td>5</td>\n",
       "      <td>may</td>\n",
       "      <td>412</td>\n",
       "      <td>1</td>\n",
       "      <td>-1</td>\n",
       "      <td>0</td>\n",
       "      <td>unknown</td>\n",
       "      <td>no</td>\n",
       "    </tr>\n",
       "    <tr>\n",
       "      <th>376</th>\n",
       "      <td>38</td>\n",
       "      <td>administrative</td>\n",
       "      <td>single</td>\n",
       "      <td>secondary</td>\n",
       "      <td>no</td>\n",
       "      <td>393</td>\n",
       "      <td>no</td>\n",
       "      <td>no</td>\n",
       "      <td>unknown</td>\n",
       "      <td>6</td>\n",
       "      <td>may</td>\n",
       "      <td>184</td>\n",
       "      <td>2</td>\n",
       "      <td>-1</td>\n",
       "      <td>0</td>\n",
       "      <td>unknown</td>\n",
       "      <td>no</td>\n",
       "    </tr>\n",
       "  </tbody>\n",
       "</table>\n",
       "</div>"
      ],
      "text/plain": [
       "     age             job   marital  education default  balance housing loan  \\\n",
       "174   60  administrative  divorced  secondary      no       92     yes   no   \n",
       "175   53  administrative  divorced  secondary      no     1151     yes   no   \n",
       "376   38  administrative    single  secondary      no      393      no   no   \n",
       "\n",
       "     contact  day month  duration  campaign  pdays  previous poutcome   y  \n",
       "174  unknown    5   may       130         1     -1         0  unknown  no  \n",
       "175  unknown    5   may       412         1     -1         0  unknown  no  \n",
       "376  unknown    6   may       184         2     -1         0  unknown  no  "
      ]
     },
     "metadata": {},
     "output_type": "display_data"
    }
   ],
   "source": [
    "datos[datos[\"job\"]==\"administrative\"]"
   ]
  },
  {
   "cell_type": "code",
   "execution_count": null,
   "id": "4865e1ed",
   "metadata": {},
   "outputs": [
    {
     "data": {
      "text/html": [
       "<div>\n",
       "<style scoped>\n",
       "    .dataframe tbody tr th:only-of-type {\n",
       "        vertical-align: middle;\n",
       "    }\n",
       "\n",
       "    .dataframe tbody tr th {\n",
       "        vertical-align: top;\n",
       "    }\n",
       "\n",
       "    .dataframe thead th {\n",
       "        text-align: right;\n",
       "    }\n",
       "</style>\n",
       "<table border=\"1\" class=\"dataframe\">\n",
       "  <thead>\n",
       "    <tr style=\"text-align: right;\">\n",
       "      <th></th>\n",
       "      <th>age</th>\n",
       "      <th>job</th>\n",
       "      <th>marital</th>\n",
       "      <th>education</th>\n",
       "      <th>default</th>\n",
       "      <th>balance</th>\n",
       "      <th>housing</th>\n",
       "      <th>loan</th>\n",
       "      <th>contact</th>\n",
       "      <th>day</th>\n",
       "      <th>month</th>\n",
       "      <th>duration</th>\n",
       "      <th>campaign</th>\n",
       "      <th>pdays</th>\n",
       "      <th>previous</th>\n",
       "      <th>poutcome</th>\n",
       "      <th>y</th>\n",
       "    </tr>\n",
       "  </thead>\n",
       "  <tbody>\n",
       "    <tr>\n",
       "      <th>10</th>\n",
       "      <td>41</td>\n",
       "      <td>admin.</td>\n",
       "      <td>div.</td>\n",
       "      <td>secondary</td>\n",
       "      <td>no</td>\n",
       "      <td>270</td>\n",
       "      <td>yes</td>\n",
       "      <td>no</td>\n",
       "      <td>unknown</td>\n",
       "      <td>5</td>\n",
       "      <td>may</td>\n",
       "      <td>222</td>\n",
       "      <td>1</td>\n",
       "      <td>-1</td>\n",
       "      <td>0</td>\n",
       "      <td>unknown</td>\n",
       "      <td>no</td>\n",
       "    </tr>\n",
       "    <tr>\n",
       "      <th>11</th>\n",
       "      <td>29</td>\n",
       "      <td>admin.</td>\n",
       "      <td>single</td>\n",
       "      <td>secondary</td>\n",
       "      <td>no</td>\n",
       "      <td>390</td>\n",
       "      <td>yes</td>\n",
       "      <td>no</td>\n",
       "      <td>unknown</td>\n",
       "      <td>5</td>\n",
       "      <td>may</td>\n",
       "      <td>137</td>\n",
       "      <td>1</td>\n",
       "      <td>-1</td>\n",
       "      <td>0</td>\n",
       "      <td>UNK</td>\n",
       "      <td>no</td>\n",
       "    </tr>\n",
       "    <tr>\n",
       "      <th>16</th>\n",
       "      <td>45</td>\n",
       "      <td>admin.</td>\n",
       "      <td>single</td>\n",
       "      <td>unknown</td>\n",
       "      <td>no</td>\n",
       "      <td>13</td>\n",
       "      <td>yes</td>\n",
       "      <td>no</td>\n",
       "      <td>unknown</td>\n",
       "      <td>5</td>\n",
       "      <td>may</td>\n",
       "      <td>98</td>\n",
       "      <td>1</td>\n",
       "      <td>-1</td>\n",
       "      <td>0</td>\n",
       "      <td>unknown</td>\n",
       "      <td>no</td>\n",
       "    </tr>\n",
       "    <tr>\n",
       "      <th>25</th>\n",
       "      <td>44</td>\n",
       "      <td>admin.</td>\n",
       "      <td>married</td>\n",
       "      <td>secondary</td>\n",
       "      <td>no</td>\n",
       "      <td>-372</td>\n",
       "      <td>yes</td>\n",
       "      <td>no</td>\n",
       "      <td>unknown</td>\n",
       "      <td>5</td>\n",
       "      <td>may</td>\n",
       "      <td>172</td>\n",
       "      <td>1</td>\n",
       "      <td>-1</td>\n",
       "      <td>0</td>\n",
       "      <td>unknown</td>\n",
       "      <td>no</td>\n",
       "    </tr>\n",
       "    <tr>\n",
       "      <th>32</th>\n",
       "      <td>60</td>\n",
       "      <td>admin.</td>\n",
       "      <td>married</td>\n",
       "      <td>secondary</td>\n",
       "      <td>no</td>\n",
       "      <td>39</td>\n",
       "      <td>yes</td>\n",
       "      <td>yes</td>\n",
       "      <td>unknown</td>\n",
       "      <td>5</td>\n",
       "      <td>may</td>\n",
       "      <td>208</td>\n",
       "      <td>1</td>\n",
       "      <td>-1</td>\n",
       "      <td>0</td>\n",
       "      <td>unknown</td>\n",
       "      <td>no</td>\n",
       "    </tr>\n",
       "    <tr>\n",
       "      <th>...</th>\n",
       "      <td>...</td>\n",
       "      <td>...</td>\n",
       "      <td>...</td>\n",
       "      <td>...</td>\n",
       "      <td>...</td>\n",
       "      <td>...</td>\n",
       "      <td>...</td>\n",
       "      <td>...</td>\n",
       "      <td>...</td>\n",
       "      <td>...</td>\n",
       "      <td>...</td>\n",
       "      <td>...</td>\n",
       "      <td>...</td>\n",
       "      <td>...</td>\n",
       "      <td>...</td>\n",
       "      <td>...</td>\n",
       "      <td>...</td>\n",
       "    </tr>\n",
       "    <tr>\n",
       "      <th>20675</th>\n",
       "      <td>59</td>\n",
       "      <td>admin.</td>\n",
       "      <td>married</td>\n",
       "      <td>tertiary</td>\n",
       "      <td>no</td>\n",
       "      <td>349</td>\n",
       "      <td>no</td>\n",
       "      <td>no</td>\n",
       "      <td>cellular</td>\n",
       "      <td>12</td>\n",
       "      <td>aug</td>\n",
       "      <td>124</td>\n",
       "      <td>4</td>\n",
       "      <td>-1</td>\n",
       "      <td>0</td>\n",
       "      <td>unknown</td>\n",
       "      <td>no</td>\n",
       "    </tr>\n",
       "    <tr>\n",
       "      <th>20686</th>\n",
       "      <td>56</td>\n",
       "      <td>admin.</td>\n",
       "      <td>married</td>\n",
       "      <td>unknown</td>\n",
       "      <td>no</td>\n",
       "      <td>1167</td>\n",
       "      <td>no</td>\n",
       "      <td>no</td>\n",
       "      <td>cellular</td>\n",
       "      <td>12</td>\n",
       "      <td>aug</td>\n",
       "      <td>465</td>\n",
       "      <td>9</td>\n",
       "      <td>-1</td>\n",
       "      <td>0</td>\n",
       "      <td>unknown</td>\n",
       "      <td>no</td>\n",
       "    </tr>\n",
       "    <tr>\n",
       "      <th>20728</th>\n",
       "      <td>45</td>\n",
       "      <td>admin.</td>\n",
       "      <td>married</td>\n",
       "      <td>secondary</td>\n",
       "      <td>yes</td>\n",
       "      <td>-571</td>\n",
       "      <td>no</td>\n",
       "      <td>no</td>\n",
       "      <td>cellular</td>\n",
       "      <td>13</td>\n",
       "      <td>aug</td>\n",
       "      <td>332</td>\n",
       "      <td>2</td>\n",
       "      <td>-1</td>\n",
       "      <td>0</td>\n",
       "      <td>unknown</td>\n",
       "      <td>no</td>\n",
       "    </tr>\n",
       "    <tr>\n",
       "      <th>20735</th>\n",
       "      <td>51</td>\n",
       "      <td>admin.</td>\n",
       "      <td>married</td>\n",
       "      <td>secondary</td>\n",
       "      <td>no</td>\n",
       "      <td>21</td>\n",
       "      <td>no</td>\n",
       "      <td>yes</td>\n",
       "      <td>cellular</td>\n",
       "      <td>13</td>\n",
       "      <td>aug</td>\n",
       "      <td>157</td>\n",
       "      <td>2</td>\n",
       "      <td>-1</td>\n",
       "      <td>0</td>\n",
       "      <td>unknown</td>\n",
       "      <td>no</td>\n",
       "    </tr>\n",
       "    <tr>\n",
       "      <th>20737</th>\n",
       "      <td>51</td>\n",
       "      <td>admin.</td>\n",
       "      <td>married</td>\n",
       "      <td>secondary</td>\n",
       "      <td>no</td>\n",
       "      <td>79</td>\n",
       "      <td>no</td>\n",
       "      <td>no</td>\n",
       "      <td>cellular</td>\n",
       "      <td>13</td>\n",
       "      <td>aug</td>\n",
       "      <td>89</td>\n",
       "      <td>2</td>\n",
       "      <td>-1</td>\n",
       "      <td>0</td>\n",
       "      <td>unknown</td>\n",
       "      <td>no</td>\n",
       "    </tr>\n",
       "  </tbody>\n",
       "</table>\n",
       "<p>2349 rows × 17 columns</p>\n",
       "</div>"
      ],
      "text/plain": [
       "       age     job  marital  education default  balance housing loan  \\\n",
       "10      41  admin.     div.  secondary      no      270     yes   no   \n",
       "11      29  admin.   single  secondary      no      390     yes   no   \n",
       "16      45  admin.   single    unknown      no       13     yes   no   \n",
       "25      44  admin.  married  secondary      no     -372     yes   no   \n",
       "32      60  admin.  married  secondary      no       39     yes  yes   \n",
       "...    ...     ...      ...        ...     ...      ...     ...  ...   \n",
       "20675   59  admin.  married   tertiary      no      349      no   no   \n",
       "20686   56  admin.  married    unknown      no     1167      no   no   \n",
       "20728   45  admin.  married  secondary     yes     -571      no   no   \n",
       "20735   51  admin.  married  secondary      no       21      no  yes   \n",
       "20737   51  admin.  married  secondary      no       79      no   no   \n",
       "\n",
       "        contact  day month  duration  campaign  pdays  previous poutcome   y  \n",
       "10      unknown    5   may       222         1     -1         0  unknown  no  \n",
       "11      unknown    5   may       137         1     -1         0      UNK  no  \n",
       "16      unknown    5   may        98         1     -1         0  unknown  no  \n",
       "25      unknown    5   may       172         1     -1         0  unknown  no  \n",
       "32      unknown    5   may       208         1     -1         0  unknown  no  \n",
       "...         ...  ...   ...       ...       ...    ...       ...      ...  ..  \n",
       "20675  cellular   12   aug       124         4     -1         0  unknown  no  \n",
       "20686  cellular   12   aug       465         9     -1         0  unknown  no  \n",
       "20728  cellular   13   aug       332         2     -1         0  unknown  no  \n",
       "20735  cellular   13   aug       157         2     -1         0  unknown  no  \n",
       "20737  cellular   13   aug        89         2     -1         0  unknown  no  \n",
       "\n",
       "[2349 rows x 17 columns]"
      ]
     },
     "metadata": {},
     "output_type": "display_data"
    }
   ],
   "source": [
    "datos[datos[\"job\"]==\"admin.\"]"
   ]
  },
  {
   "cell_type": "markdown",
   "id": "8d97f99c",
   "metadata": {},
   "source": [
    "Reemplazare admin. por administrative"
   ]
  },
  {
   "cell_type": "code",
   "execution_count": null,
   "id": "dac5b9df",
   "metadata": {},
   "outputs": [],
   "source": [
    "datos[\"job\"] = datos[\"job\"].str.replace(\"admin.\",\"administrative\")"
   ]
  },
  {
   "cell_type": "code",
   "execution_count": null,
   "id": "869ff6df",
   "metadata": {},
   "outputs": [
    {
     "data": {
      "text/plain": [
       "job\n",
       "blue-collar       5413\n",
       "management        3742\n",
       "technician        3319\n",
       "administrative    2352\n",
       "services          2184\n",
       "retired            842\n",
       "entrepreneur       752\n",
       "housemaid          685\n",
       "self-employed      665\n",
       "unemployed         474\n",
       "unknown            159\n",
       "student            151\n",
       "Name: count, dtype: int64"
      ]
     },
     "metadata": {},
     "output_type": "display_data"
    }
   ],
   "source": [
    "datos[\"job\"].value_counts()"
   ]
  },
  {
   "cell_type": "markdown",
   "id": "264a4cf0",
   "metadata": {},
   "source": [
    "## Marital"
   ]
  },
  {
   "cell_type": "code",
   "execution_count": null,
   "id": "aa833f1e",
   "metadata": {},
   "outputs": [
    {
     "data": {
      "text/plain": [
       "marital\n",
       "married     13213\n",
       "single       5002\n",
       "divorced     2509\n",
       "div.            7\n",
       "Single          4\n",
       "DIVORCED        3\n",
       "Name: count, dtype: int64"
      ]
     },
     "metadata": {},
     "output_type": "display_data"
    }
   ],
   "source": [
    "datos[\"marital\"].value_counts()"
   ]
  },
  {
   "cell_type": "markdown",
   "id": "415541c0",
   "metadata": {},
   "source": [
    "Se eliminara espacios, se convertira a minuscula y se reemplazara algunas categorias para unificar como div. por divorced"
   ]
  },
  {
   "cell_type": "code",
   "execution_count": null,
   "id": "8cf8b459",
   "metadata": {},
   "outputs": [],
   "source": [
    "datos[\"marital\"] = datos[\"marital\"].str.strip()\n",
    "datos[\"marital\"] = datos[\"marital\"].str.lower()"
   ]
  },
  {
   "cell_type": "code",
   "execution_count": null,
   "id": "0c2ab9ed",
   "metadata": {},
   "outputs": [],
   "source": [
    "datos[\"marital\"] = datos[\"marital\"].replace(\"div.\",\"divorced\")"
   ]
  },
  {
   "cell_type": "code",
   "execution_count": null,
   "id": "cfb449c2",
   "metadata": {},
   "outputs": [
    {
     "data": {
      "text/plain": [
       "marital\n",
       "married     13213\n",
       "single       5006\n",
       "divorced     2519\n",
       "Name: count, dtype: int64"
      ]
     },
     "metadata": {},
     "output_type": "display_data"
    }
   ],
   "source": [
    "datos[\"marital\"].value_counts()"
   ]
  },
  {
   "cell_type": "markdown",
   "id": "0a6393b3",
   "metadata": {},
   "source": [
    "## Education"
   ]
  },
  {
   "cell_type": "code",
   "execution_count": null,
   "id": "8e2ed3cc",
   "metadata": {},
   "outputs": [
    {
     "data": {
      "text/plain": [
       "education\n",
       "secondary    11062\n",
       "tertiary      4985\n",
       "primary       3741\n",
       "unknown        939\n",
       "SECONDARY        3\n",
       "Primary          2\n",
       "UNK              2\n",
       "sec.             2\n",
       "Secondary        1\n",
       "Tertiary         1\n",
       "Name: count, dtype: int64"
      ]
     },
     "metadata": {},
     "output_type": "display_data"
    }
   ],
   "source": [
    "datos[\"education\"].value_counts()"
   ]
  },
  {
   "cell_type": "markdown",
   "id": "0149dd90",
   "metadata": {},
   "source": [
    "Se eliminara espacios, se convertira a minuscula y se reemplazara algunas categorias para unificar como sec. por secondary"
   ]
  },
  {
   "cell_type": "code",
   "execution_count": null,
   "id": "5b70094a",
   "metadata": {},
   "outputs": [],
   "source": [
    "datos[\"education\"] = datos[\"education\"].str.strip()\n",
    "datos[\"education\"] = datos[\"education\"].str.lower()"
   ]
  },
  {
   "cell_type": "code",
   "execution_count": null,
   "id": "e5535f01",
   "metadata": {},
   "outputs": [
    {
     "data": {
      "text/plain": [
       "education\n",
       "secondary    11066\n",
       "tertiary      4986\n",
       "primary       3743\n",
       "unknown        939\n",
       "sec.             2\n",
       "unk              2\n",
       "Name: count, dtype: int64"
      ]
     },
     "metadata": {},
     "output_type": "display_data"
    }
   ],
   "source": [
    "datos[\"education\"].value_counts()"
   ]
  },
  {
   "cell_type": "code",
   "execution_count": null,
   "id": "df7c1fa5",
   "metadata": {},
   "outputs": [],
   "source": [
    "datos[\"education\"] = datos[\"education\"].replace(\"unk\",\"unknown\")\n",
    "datos[\"education\"]  = datos[\"education\"].replace(\"sec.\",\"secondary\")"
   ]
  },
  {
   "cell_type": "code",
   "execution_count": null,
   "id": "e73b29e9",
   "metadata": {},
   "outputs": [
    {
     "data": {
      "text/plain": [
       "education\n",
       "secondary    11068\n",
       "tertiary      4986\n",
       "primary       3743\n",
       "unknown        941\n",
       "Name: count, dtype: int64"
      ]
     },
     "metadata": {},
     "output_type": "display_data"
    }
   ],
   "source": [
    "datos[\"education\"].value_counts()"
   ]
  },
  {
   "cell_type": "markdown",
   "id": "7ae65715",
   "metadata": {},
   "source": [
    "## Default"
   ]
  },
  {
   "cell_type": "code",
   "execution_count": null,
   "id": "94d26674",
   "metadata": {},
   "outputs": [
    {
     "data": {
      "text/plain": [
       "default\n",
       "no     20217\n",
       "yes      521\n",
       "Name: count, dtype: int64"
      ]
     },
     "metadata": {},
     "output_type": "display_data"
    }
   ],
   "source": [
    "datos[\"default\"].value_counts()"
   ]
  },
  {
   "cell_type": "markdown",
   "id": "ae483cfa",
   "metadata": {},
   "source": [
    "Todo bien en default, dos categorias si y no"
   ]
  },
  {
   "cell_type": "markdown",
   "id": "aceeee90",
   "metadata": {},
   "source": [
    "## Balance"
   ]
  },
  {
   "cell_type": "code",
   "execution_count": null,
   "id": "ec4e04e4",
   "metadata": {},
   "outputs": [
    {
     "data": {
      "text/plain": [
       "count     20738.000000\n",
       "mean       1148.694956\n",
       "std        4501.391764\n",
       "min       -8019.000000\n",
       "25%          30.000000\n",
       "50%         350.000000\n",
       "75%        1191.000000\n",
       "max      527532.000000\n",
       "Name: balance, dtype: float64"
      ]
     },
     "metadata": {},
     "output_type": "display_data"
    }
   ],
   "source": [
    "datos['balance'].describe()"
   ]
  },
  {
   "cell_type": "markdown",
   "id": "95d283c3",
   "metadata": {},
   "source": [
    "Todo bien balance hay valores negativos y positivos que son aceptables para la variable"
   ]
  },
  {
   "cell_type": "markdown",
   "id": "3dd7bff9",
   "metadata": {},
   "source": [
    "## Housing"
   ]
  },
  {
   "cell_type": "code",
   "execution_count": null,
   "id": "4df98da4",
   "metadata": {},
   "outputs": [
    {
     "data": {
      "text/plain": [
       "housing\n",
       "yes    12803\n",
       "no      7935\n",
       "Name: count, dtype: int64"
      ]
     },
     "metadata": {},
     "output_type": "display_data"
    }
   ],
   "source": [
    "datos[\"housing\"].value_counts()"
   ]
  },
  {
   "cell_type": "markdown",
   "id": "b1a6ecdb",
   "metadata": {},
   "source": [
    "Todo bien en housing dos categorias si y no"
   ]
  },
  {
   "cell_type": "markdown",
   "id": "66e7664f",
   "metadata": {},
   "source": [
    "## Loan"
   ]
  },
  {
   "cell_type": "code",
   "execution_count": null,
   "id": "8675522d",
   "metadata": {},
   "outputs": [
    {
     "data": {
      "text/plain": [
       "loan\n",
       "no     16589\n",
       "yes     4139\n",
       "No         5\n",
       "YES        2\n",
       "NO         2\n",
       "Yes        1\n",
       "Name: count, dtype: int64"
      ]
     },
     "metadata": {},
     "output_type": "display_data"
    }
   ],
   "source": [
    "datos[\"loan\"].value_counts()"
   ]
  },
  {
   "cell_type": "markdown",
   "id": "63560ba3",
   "metadata": {},
   "source": [
    "Se eliminara espacios, se convertira a minuscula"
   ]
  },
  {
   "cell_type": "code",
   "execution_count": null,
   "id": "4b924fae",
   "metadata": {},
   "outputs": [],
   "source": [
    "datos[\"loan\"] = datos[\"loan\"].str.strip()\n",
    "datos[\"loan\"] = datos[\"loan\"].str.lower()"
   ]
  },
  {
   "cell_type": "code",
   "execution_count": null,
   "id": "0bd1344c",
   "metadata": {},
   "outputs": [
    {
     "data": {
      "text/plain": [
       "loan\n",
       "no     16596\n",
       "yes     4142\n",
       "Name: count, dtype: int64"
      ]
     },
     "metadata": {},
     "output_type": "display_data"
    }
   ],
   "source": [
    "datos[\"loan\"].value_counts()"
   ]
  },
  {
   "cell_type": "markdown",
   "id": "93f7b3d4",
   "metadata": {},
   "source": [
    "## Contact"
   ]
  },
  {
   "cell_type": "code",
   "execution_count": null,
   "id": "3c87b6b2",
   "metadata": {},
   "outputs": [
    {
     "data": {
      "text/plain": [
       "contact\n",
       "unknown      12684\n",
       "cellular      7237\n",
       "telephone      817\n",
       "Name: count, dtype: int64"
      ]
     },
     "metadata": {},
     "output_type": "display_data"
    }
   ],
   "source": [
    "datos[\"contact\"].value_counts()"
   ]
  },
  {
   "cell_type": "markdown",
   "id": "23e9323c",
   "metadata": {},
   "source": [
    "Todo bien en contacto"
   ]
  },
  {
   "cell_type": "markdown",
   "id": "92aa79e9",
   "metadata": {},
   "source": [
    "## Day"
   ]
  },
  {
   "cell_type": "code",
   "execution_count": null,
   "id": "9876ea7a",
   "metadata": {},
   "outputs": [
    {
     "data": {
      "text/plain": [
       "count    20738.000000\n",
       "mean        15.976854\n",
       "std          8.588358\n",
       "min          1.000000\n",
       "25%          8.000000\n",
       "50%         15.000000\n",
       "75%         23.000000\n",
       "max         31.000000\n",
       "Name: day, dtype: float64"
      ]
     },
     "metadata": {},
     "output_type": "display_data"
    }
   ],
   "source": [
    "datos['day'].describe()"
   ]
  },
  {
   "cell_type": "markdown",
   "id": "521741dd",
   "metadata": {},
   "source": [
    "Todo bien en day estan en el rango de 1 a 31"
   ]
  },
  {
   "cell_type": "markdown",
   "id": "8e786523",
   "metadata": {},
   "source": [
    "## Month"
   ]
  },
  {
   "cell_type": "code",
   "execution_count": null,
   "id": "67a3da48",
   "metadata": {},
   "outputs": [
    {
     "data": {
      "text/plain": [
       "month\n",
       "may    7957\n",
       "jul    6380\n",
       "jun    4486\n",
       "aug    1914\n",
       "nov       1\n",
       "Name: count, dtype: int64"
      ]
     },
     "metadata": {},
     "output_type": "display_data"
    }
   ],
   "source": [
    "datos[\"month\"].value_counts()"
   ]
  },
  {
   "cell_type": "markdown",
   "id": "488024f3",
   "metadata": {},
   "source": [
    "Todo bien en month"
   ]
  },
  {
   "cell_type": "markdown",
   "id": "68300f68",
   "metadata": {},
   "source": [
    "## Duration"
   ]
  },
  {
   "cell_type": "code",
   "execution_count": null,
   "id": "73b39f2e",
   "metadata": {},
   "outputs": [
    {
     "data": {
      "text/plain": [
       "count    20738.000000\n",
       "mean       259.036358\n",
       "std        261.616977\n",
       "min      -1389.000000\n",
       "25%        103.000000\n",
       "50%        178.000000\n",
       "75%        317.000000\n",
       "max       3881.000000\n",
       "Name: duration, dtype: float64"
      ]
     },
     "metadata": {},
     "output_type": "display_data"
    }
   ],
   "source": [
    "datos['duration'].describe()"
   ]
  },
  {
   "cell_type": "markdown",
   "id": "fd1905de",
   "metadata": {},
   "source": [
    "Hay duraciones en negativos, se lo convertira en positivo"
   ]
  },
  {
   "cell_type": "code",
   "execution_count": null,
   "id": "002538b7",
   "metadata": {},
   "outputs": [
    {
     "data": {
      "text/html": [
       "<div>\n",
       "<style scoped>\n",
       "    .dataframe tbody tr th:only-of-type {\n",
       "        vertical-align: middle;\n",
       "    }\n",
       "\n",
       "    .dataframe tbody tr th {\n",
       "        vertical-align: top;\n",
       "    }\n",
       "\n",
       "    .dataframe thead th {\n",
       "        text-align: right;\n",
       "    }\n",
       "</style>\n",
       "<table border=\"1\" class=\"dataframe\">\n",
       "  <thead>\n",
       "    <tr style=\"text-align: right;\">\n",
       "      <th></th>\n",
       "      <th>age</th>\n",
       "      <th>job</th>\n",
       "      <th>marital</th>\n",
       "      <th>education</th>\n",
       "      <th>default</th>\n",
       "      <th>balance</th>\n",
       "      <th>housing</th>\n",
       "      <th>loan</th>\n",
       "      <th>contact</th>\n",
       "      <th>day</th>\n",
       "      <th>month</th>\n",
       "      <th>duration</th>\n",
       "      <th>campaign</th>\n",
       "      <th>pdays</th>\n",
       "      <th>previous</th>\n",
       "      <th>poutcome</th>\n",
       "      <th>y</th>\n",
       "    </tr>\n",
       "  </thead>\n",
       "  <tbody>\n",
       "    <tr>\n",
       "      <th>12</th>\n",
       "      <td>53</td>\n",
       "      <td>technician</td>\n",
       "      <td>married</td>\n",
       "      <td>secondary</td>\n",
       "      <td>no</td>\n",
       "      <td>6</td>\n",
       "      <td>yes</td>\n",
       "      <td>no</td>\n",
       "      <td>unknown</td>\n",
       "      <td>5</td>\n",
       "      <td>may</td>\n",
       "      <td>-517</td>\n",
       "      <td>1</td>\n",
       "      <td>-1</td>\n",
       "      <td>0</td>\n",
       "      <td>unknown</td>\n",
       "      <td>no</td>\n",
       "    </tr>\n",
       "    <tr>\n",
       "      <th>87</th>\n",
       "      <td>41</td>\n",
       "      <td>technician</td>\n",
       "      <td>married</td>\n",
       "      <td>secondary</td>\n",
       "      <td>no</td>\n",
       "      <td>1270</td>\n",
       "      <td>yes</td>\n",
       "      <td>no</td>\n",
       "      <td>unknown</td>\n",
       "      <td>5</td>\n",
       "      <td>may</td>\n",
       "      <td>-1389</td>\n",
       "      <td>1</td>\n",
       "      <td>-1</td>\n",
       "      <td>0</td>\n",
       "      <td>unknown</td>\n",
       "      <td>yes</td>\n",
       "    </tr>\n",
       "  </tbody>\n",
       "</table>\n",
       "</div>"
      ],
      "text/plain": [
       "    age         job  marital  education default  balance housing loan  \\\n",
       "12   53  technician  married  secondary      no        6     yes   no   \n",
       "87   41  technician  married  secondary      no     1270     yes   no   \n",
       "\n",
       "    contact  day month  duration  campaign  pdays  previous poutcome    y  \n",
       "12  unknown    5   may      -517         1     -1         0  unknown   no  \n",
       "87  unknown    5   may     -1389         1     -1         0  unknown  yes  "
      ]
     },
     "metadata": {},
     "output_type": "display_data"
    }
   ],
   "source": [
    "datos[datos['duration']<0]"
   ]
  },
  {
   "cell_type": "code",
   "execution_count": null,
   "id": "b5987e40",
   "metadata": {},
   "outputs": [],
   "source": [
    "datos['duration'] = datos['duration'].abs()"
   ]
  },
  {
   "cell_type": "code",
   "execution_count": null,
   "id": "c0396937",
   "metadata": {},
   "outputs": [
    {
     "data": {
      "text/plain": [
       "count    20738.000000\n",
       "mean       259.220176\n",
       "std        261.434836\n",
       "min          0.000000\n",
       "25%        103.000000\n",
       "50%        178.000000\n",
       "75%        317.000000\n",
       "max       3881.000000\n",
       "Name: duration, dtype: float64"
      ]
     },
     "metadata": {},
     "output_type": "display_data"
    }
   ],
   "source": [
    "datos[\"duration\"].describe()"
   ]
  },
  {
   "cell_type": "markdown",
   "id": "fc2aadb4",
   "metadata": {},
   "source": [
    "## Campaign"
   ]
  },
  {
   "cell_type": "code",
   "execution_count": null,
   "id": "85dc02db",
   "metadata": {},
   "outputs": [
    {
     "data": {
      "text/plain": [
       "count    20738.000000\n",
       "mean         3.089642\n",
       "std          3.660236\n",
       "min          1.000000\n",
       "25%          1.000000\n",
       "50%          2.000000\n",
       "75%          3.000000\n",
       "max         63.000000\n",
       "Name: campaign, dtype: float64"
      ]
     },
     "metadata": {},
     "output_type": "display_data"
    }
   ],
   "source": [
    "datos[\"campaign\"].describe()"
   ]
  },
  {
   "cell_type": "markdown",
   "id": "b01adac4",
   "metadata": {},
   "source": [
    "Todo bien en campaign"
   ]
  },
  {
   "cell_type": "markdown",
   "id": "d054aa26",
   "metadata": {},
   "source": [
    "## Pdays"
   ]
  },
  {
   "cell_type": "code",
   "execution_count": null,
   "id": "29e1bb44",
   "metadata": {},
   "outputs": [
    {
     "data": {
      "text/plain": [
       "pdays\n",
       "-1      20737\n",
       " 187        1\n",
       "Name: count, dtype: int64"
      ]
     },
     "metadata": {},
     "output_type": "display_data"
    }
   ],
   "source": [
    "datos[\"pdays\"].value_counts()"
   ]
  },
  {
   "cell_type": "markdown",
   "id": "91e2225d",
   "metadata": {},
   "source": [
    "Raro que solo haya uno 187 y los otros -1, pero se dejara asi"
   ]
  },
  {
   "cell_type": "markdown",
   "id": "5a41de79",
   "metadata": {},
   "source": [
    "## Previous"
   ]
  },
  {
   "cell_type": "code",
   "execution_count": null,
   "id": "58177237",
   "metadata": {},
   "outputs": [
    {
     "data": {
      "text/plain": [
       "previous\n",
       "0    20737\n",
       "5        1\n",
       "Name: count, dtype: int64"
      ]
     },
     "metadata": {},
     "output_type": "display_data"
    }
   ],
   "source": [
    "datos[\"previous\"].value_counts()"
   ]
  },
  {
   "cell_type": "markdown",
   "id": "532e1fe7",
   "metadata": {},
   "source": [
    "Raro que solo haya uno de 5 y los otros 0, pero se dejara asi"
   ]
  },
  {
   "cell_type": "markdown",
   "id": "3fa0810d",
   "metadata": {},
   "source": [
    "## Poutcome"
   ]
  },
  {
   "cell_type": "code",
   "execution_count": null,
   "id": "c24a94d3",
   "metadata": {},
   "outputs": [
    {
     "data": {
      "text/plain": [
       "poutcome\n",
       "unknown    20733\n",
       "UNK            4\n",
       "failure        1\n",
       "Name: count, dtype: int64"
      ]
     },
     "metadata": {},
     "output_type": "display_data"
    }
   ],
   "source": [
    "datos[\"poutcome\"].value_counts()"
   ]
  },
  {
   "cell_type": "markdown",
   "id": "d11e8225",
   "metadata": {},
   "source": [
    "Se reemplazara UNK por unknown"
   ]
  },
  {
   "cell_type": "code",
   "execution_count": null,
   "id": "a724d73e",
   "metadata": {},
   "outputs": [],
   "source": [
    "datos[\"poutcome\"] = datos[\"poutcome\"].str.replace(\"UNK\",\"unknown\")"
   ]
  },
  {
   "cell_type": "code",
   "execution_count": null,
   "id": "8e9f1589",
   "metadata": {},
   "outputs": [
    {
     "data": {
      "text/plain": [
       "poutcome\n",
       "unknown    20737\n",
       "failure        1\n",
       "Name: count, dtype: int64"
      ]
     },
     "metadata": {},
     "output_type": "display_data"
    }
   ],
   "source": [
    "datos[\"poutcome\"].value_counts()"
   ]
  },
  {
   "cell_type": "markdown",
   "id": "a62216b1",
   "metadata": {},
   "source": [
    "## y"
   ]
  },
  {
   "cell_type": "code",
   "execution_count": null,
   "id": "0fcf8de5",
   "metadata": {},
   "outputs": [
    {
     "data": {
      "text/plain": [
       "y\n",
       "no     19748\n",
       "yes      990\n",
       "Name: count, dtype: int64"
      ]
     },
     "metadata": {},
     "output_type": "display_data"
    }
   ],
   "source": [
    "datos[\"y\"].value_counts()"
   ]
  },
  {
   "cell_type": "markdown",
   "id": "ec4c64ea",
   "metadata": {},
   "source": [
    "Todo bien en y"
   ]
  }
 ],
 "metadata": {
  "kernelspec": {
   "display_name": "venv_github (3.12.6)",
   "language": "python",
   "name": "python3"
  },
  "language_info": {
   "codemirror_mode": {
    "name": "ipython",
    "version": 3
   },
   "file_extension": ".py",
   "mimetype": "text/x-python",
   "name": "python",
   "nbconvert_exporter": "python",
   "pygments_lexer": "ipython3",
   "version": "3.12.6"
  }
 },
 "nbformat": 4,
 "nbformat_minor": 5
}
